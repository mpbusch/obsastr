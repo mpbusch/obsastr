{
 "cells": [
  {
   "cell_type": "code",
   "execution_count": 3,
   "metadata": {
    "collapsed": false
   },
   "outputs": [],
   "source": [
    "# Import numpy\n",
    "import numpy as np\n",
    "from glob import glob\n",
    "from astropy.io import fits, ascii\n",
    "\n",
    "# Importing plotting stuff\n",
    "import matplotlib.pyplot as plt\n",
    "%matplotlib inline\n",
    "from scipy import stats\n",
    "\n",
    "# Use seaborn plotting style defaults\n",
    "#import seaborn as sns; sns.set()\n",
    "\n",
    "# Import Astropy things we need\n",
    "from astropy.io import ascii\n",
    "\n",
    "import astropy.coordinates as coord\n",
    "import astropy.units as u\n",
    "from astropy.table import Table\n",
    "\n",
    "from scipy.ndimage import median_filter\n",
    "from sklearn.neighbors import NearestNeighbors\n",
    "from glob import glob\n",
    "import os"
   ]
  },
  {
   "cell_type": "code",
   "execution_count": 4,
   "metadata": {
    "collapsed": true
   },
   "outputs": [],
   "source": [
    "def remove_oscan_file(inname, outname, clobber=False):\n",
    "\n",
    "    tmp_indata = fits.getdata(inname)\n",
    "    tmp_inhead = fits.getheader(inname)\n",
    "    tmp_outdata = remove_oscan(tmp_indata)\n",
    "\n",
    "    tmp_inhead['history'] = 'Removed Overscan'\n",
    "    \n",
    "    fits.writeto(outname, tmp_outdata, tmp_inhead, clobber=clobber)\n",
    "    \n",
    "def remove_oscan(tmp_indata):\n",
    "    tmp_indata = tmp_indata.T\n",
    "    data_origshape = tmp_indata.shape\n",
    "    \n",
    "    oscan1x = (1026, 1050); oscan1y = (1025, 2049)\n",
    "    oscan2x = (1051, 1075); oscan2y = (1025, 2049)\n",
    "    oscan3x = (1051, 1075); oscan3y = (0, 1024)\n",
    "    oscan4x = (1026, 1050); oscan4y = (0, 1024)\n",
    "\n",
    "    rows_to_remove = [1024, 1025]\n",
    "    n_delrow = len(rows_to_remove)\n",
    "    cols_to_remove = [0, 1, 2100, 2101] + np.arange(1026, 1076).tolist()\n",
    "    n_delcol = len(cols_to_remove)\n",
    "    \n",
    "    bias1 = median_osreg(tmp_indata, oscan1x, oscan1y)\n",
    "#     print(bias1)\n",
    "    bias2 = median_osreg(tmp_indata, oscan2x, oscan2y)\n",
    "#     print(bias2)\n",
    "    bias3 = median_osreg(tmp_indata, oscan3x, oscan3y)\n",
    "#     print(bias3)\n",
    "    bias4 = median_osreg(tmp_indata, oscan4x, oscan4y)\n",
    "#     print(bias4)\n",
    "\n",
    "    \n",
    "    tmp_outdata = np.zeros((data_origshape[0] - n_delcol, \n",
    "                           data_origshape[1] - n_delrow))\n",
    "    \n",
    "\n",
    "    tmp_outdata[0:1024,1024:2048] = tmp_indata[2:1026, 1026:2050] - bias1\n",
    "    tmp_outdata[1024:2048,1024:2048] = tmp_indata[1077:2101, 1026:2050] - bias2\n",
    "    tmp_outdata[1024:2048,0:1024] = tmp_indata[1077:2101, 0:1024] - bias3\n",
    "    tmp_outdata[0:1024,0:1024] = tmp_indata[2:1026, 0:1024] - bias4\n",
    "\n",
    "    return tmp_outdata.T\n",
    "    \n",
    "def median_osreg(im, xlims, ylims):\n",
    "    medval = np.median(im[xlims[0]:xlims[1]+1, ylims[0]:ylims[1]+1])\n",
    "    return medval \n",
    "    "
   ]
  },
  {
   "cell_type": "code",
   "execution_count": 11,
   "metadata": {
    "collapsed": false
   },
   "outputs": [
    {
     "ename": "OSError",
     "evalue": "File 'os-remove/wasp44b_end_i_24.0485.fits' already exists.",
     "output_type": "error",
     "traceback": [
      "\u001b[0;31m---------------------------------------------------------------------------\u001b[0m",
      "\u001b[0;31mOSError\u001b[0m                                   Traceback (most recent call last)",
      "\u001b[0;32m<ipython-input-11-cbdafb72973d>\u001b[0m in \u001b[0;36m<module>\u001b[0;34m()\u001b[0m\n\u001b[1;32m      3\u001b[0m \u001b[0;32mfor\u001b[0m \u001b[0minname\u001b[0m \u001b[0;32min\u001b[0m \u001b[0minfile_list\u001b[0m\u001b[0;34m:\u001b[0m\u001b[0;34m\u001b[0m\u001b[0m\n\u001b[1;32m      4\u001b[0m     \u001b[0moutname\u001b[0m \u001b[0;34m=\u001b[0m \u001b[0;34m\"os-remove/\"\u001b[0m\u001b[0;34m+\u001b[0m\u001b[0mos\u001b[0m\u001b[0;34m.\u001b[0m\u001b[0mpath\u001b[0m\u001b[0;34m.\u001b[0m\u001b[0msplit\u001b[0m\u001b[0;34m(\u001b[0m\u001b[0minname\u001b[0m\u001b[0;34m)\u001b[0m\u001b[0;34m[\u001b[0m\u001b[0;36m1\u001b[0m\u001b[0;34m]\u001b[0m\u001b[0;34m\u001b[0m\u001b[0m\n\u001b[0;32m----> 5\u001b[0;31m     \u001b[0mremove_oscan_file\u001b[0m\u001b[0;34m(\u001b[0m\u001b[0minname\u001b[0m\u001b[0;34m,\u001b[0m \u001b[0moutname\u001b[0m\u001b[0;34m)\u001b[0m\u001b[0;34m\u001b[0m\u001b[0m\n\u001b[0m",
      "\u001b[0;32m<ipython-input-10-e04b6d399385>\u001b[0m in \u001b[0;36mremove_oscan_file\u001b[0;34m(inname, outname, clobber)\u001b[0m\n\u001b[1;32m      7\u001b[0m     \u001b[0mtmp_inhead\u001b[0m\u001b[0;34m[\u001b[0m\u001b[0;34m'history'\u001b[0m\u001b[0;34m]\u001b[0m \u001b[0;34m=\u001b[0m \u001b[0;34m'Removed Overscan'\u001b[0m\u001b[0;34m\u001b[0m\u001b[0m\n\u001b[1;32m      8\u001b[0m \u001b[0;34m\u001b[0m\u001b[0m\n\u001b[0;32m----> 9\u001b[0;31m     \u001b[0mfits\u001b[0m\u001b[0;34m.\u001b[0m\u001b[0mwriteto\u001b[0m\u001b[0;34m(\u001b[0m\u001b[0moutname\u001b[0m\u001b[0;34m,\u001b[0m \u001b[0mtmp_outdata\u001b[0m\u001b[0;34m,\u001b[0m \u001b[0mtmp_inhead\u001b[0m\u001b[0;34m,\u001b[0m \u001b[0mclobber\u001b[0m\u001b[0;34m=\u001b[0m\u001b[0mclobber\u001b[0m\u001b[0;34m)\u001b[0m\u001b[0;34m\u001b[0m\u001b[0m\n\u001b[0m\u001b[1;32m     10\u001b[0m \u001b[0;34m\u001b[0m\u001b[0m\n\u001b[1;32m     11\u001b[0m \u001b[0;32mdef\u001b[0m \u001b[0mremove_oscan\u001b[0m\u001b[0;34m(\u001b[0m\u001b[0mtmp_indata\u001b[0m\u001b[0;34m)\u001b[0m\u001b[0;34m:\u001b[0m\u001b[0;34m\u001b[0m\u001b[0m\n",
      "\u001b[0;32m/home/michael/anaconda3/lib/python3.5/site-packages/astropy/io/fits/convenience.py\u001b[0m in \u001b[0;36mwriteto\u001b[0;34m(filename, data, header, output_verify, clobber, checksum)\u001b[0m\n\u001b[1;32m    422\u001b[0m         \u001b[0mhdu\u001b[0m \u001b[0;34m=\u001b[0m \u001b[0mPrimaryHDU\u001b[0m\u001b[0;34m(\u001b[0m\u001b[0mdata\u001b[0m\u001b[0;34m,\u001b[0m \u001b[0mheader\u001b[0m\u001b[0;34m=\u001b[0m\u001b[0mheader\u001b[0m\u001b[0;34m)\u001b[0m\u001b[0;34m\u001b[0m\u001b[0m\n\u001b[1;32m    423\u001b[0m     hdu.writeto(filename, clobber=clobber, output_verify=output_verify,\n\u001b[0;32m--> 424\u001b[0;31m                 checksum=checksum)\n\u001b[0m\u001b[1;32m    425\u001b[0m \u001b[0;34m\u001b[0m\u001b[0m\n\u001b[1;32m    426\u001b[0m \u001b[0;34m\u001b[0m\u001b[0m\n",
      "\u001b[0;32m/home/michael/anaconda3/lib/python3.5/site-packages/astropy/io/fits/hdu/base.py\u001b[0m in \u001b[0;36mwriteto\u001b[0;34m(self, name, output_verify, clobber, checksum)\u001b[0m\n\u001b[1;32m    460\u001b[0m         \u001b[0mhdulist\u001b[0m \u001b[0;34m=\u001b[0m \u001b[0mHDUList\u001b[0m\u001b[0;34m(\u001b[0m\u001b[0;34m[\u001b[0m\u001b[0mself\u001b[0m\u001b[0;34m]\u001b[0m\u001b[0;34m)\u001b[0m\u001b[0;34m\u001b[0m\u001b[0m\n\u001b[1;32m    461\u001b[0m         hdulist.writeto(name, output_verify, clobber=clobber,\n\u001b[0;32m--> 462\u001b[0;31m                         checksum=checksum)\n\u001b[0m\u001b[1;32m    463\u001b[0m \u001b[0;34m\u001b[0m\u001b[0m\n\u001b[1;32m    464\u001b[0m     \u001b[0;34m@\u001b[0m\u001b[0mclassmethod\u001b[0m\u001b[0;34m\u001b[0m\u001b[0m\n",
      "\u001b[0;32m/home/michael/anaconda3/lib/python3.5/site-packages/astropy/io/fits/hdu/hdulist.py\u001b[0m in \u001b[0;36mwriteto\u001b[0;34m(self, fileobj, output_verify, clobber, checksum)\u001b[0m\n\u001b[1;32m    684\u001b[0m         \u001b[0;31m# file object that's open to write only, or in append/update modes\u001b[0m\u001b[0;34m\u001b[0m\u001b[0;34m\u001b[0m\u001b[0m\n\u001b[1;32m    685\u001b[0m         \u001b[0;31m# but only if the file doesn't exist.\u001b[0m\u001b[0;34m\u001b[0m\u001b[0;34m\u001b[0m\u001b[0m\n\u001b[0;32m--> 686\u001b[0;31m         \u001b[0mfileobj\u001b[0m \u001b[0;34m=\u001b[0m \u001b[0m_File\u001b[0m\u001b[0;34m(\u001b[0m\u001b[0mfileobj\u001b[0m\u001b[0;34m,\u001b[0m \u001b[0mmode\u001b[0m\u001b[0;34m=\u001b[0m\u001b[0;34m'ostream'\u001b[0m\u001b[0;34m,\u001b[0m \u001b[0mclobber\u001b[0m\u001b[0;34m=\u001b[0m\u001b[0mclobber\u001b[0m\u001b[0;34m)\u001b[0m\u001b[0;34m\u001b[0m\u001b[0m\n\u001b[0m\u001b[1;32m    687\u001b[0m         \u001b[0mhdulist\u001b[0m \u001b[0;34m=\u001b[0m \u001b[0mself\u001b[0m\u001b[0;34m.\u001b[0m\u001b[0mfromfile\u001b[0m\u001b[0;34m(\u001b[0m\u001b[0mfileobj\u001b[0m\u001b[0;34m)\u001b[0m\u001b[0;34m\u001b[0m\u001b[0m\n\u001b[1;32m    688\u001b[0m \u001b[0;34m\u001b[0m\u001b[0m\n",
      "\u001b[0;32m/home/michael/anaconda3/lib/python3.5/site-packages/astropy/io/fits/file.py\u001b[0m in \u001b[0;36m__init__\u001b[0;34m(self, fileobj, mode, memmap, clobber, cache)\u001b[0m\n\u001b[1;32m    148\u001b[0m             \u001b[0mself\u001b[0m\u001b[0;34m.\u001b[0m\u001b[0m_open_fileobj\u001b[0m\u001b[0;34m(\u001b[0m\u001b[0mfileobj\u001b[0m\u001b[0;34m,\u001b[0m \u001b[0mmode\u001b[0m\u001b[0;34m,\u001b[0m \u001b[0mclobber\u001b[0m\u001b[0;34m)\u001b[0m\u001b[0;34m\u001b[0m\u001b[0m\n\u001b[1;32m    149\u001b[0m         \u001b[0;32melif\u001b[0m \u001b[0misinstance\u001b[0m\u001b[0;34m(\u001b[0m\u001b[0mfileobj\u001b[0m\u001b[0;34m,\u001b[0m \u001b[0mstring_types\u001b[0m\u001b[0;34m)\u001b[0m\u001b[0;34m:\u001b[0m\u001b[0;34m\u001b[0m\u001b[0m\n\u001b[0;32m--> 150\u001b[0;31m             \u001b[0mself\u001b[0m\u001b[0;34m.\u001b[0m\u001b[0m_open_filename\u001b[0m\u001b[0;34m(\u001b[0m\u001b[0mfileobj\u001b[0m\u001b[0;34m,\u001b[0m \u001b[0mmode\u001b[0m\u001b[0;34m,\u001b[0m \u001b[0mclobber\u001b[0m\u001b[0;34m)\u001b[0m\u001b[0;34m\u001b[0m\u001b[0m\n\u001b[0m\u001b[1;32m    151\u001b[0m         \u001b[0;32melse\u001b[0m\u001b[0;34m:\u001b[0m\u001b[0;34m\u001b[0m\u001b[0m\n\u001b[1;32m    152\u001b[0m             \u001b[0mself\u001b[0m\u001b[0;34m.\u001b[0m\u001b[0m_open_filelike\u001b[0m\u001b[0;34m(\u001b[0m\u001b[0mfileobj\u001b[0m\u001b[0;34m,\u001b[0m \u001b[0mmode\u001b[0m\u001b[0;34m,\u001b[0m \u001b[0mclobber\u001b[0m\u001b[0;34m)\u001b[0m\u001b[0;34m\u001b[0m\u001b[0m\n",
      "\u001b[0;32m/home/michael/anaconda3/lib/python3.5/site-packages/astropy/io/fits/file.py\u001b[0m in \u001b[0;36m_open_filename\u001b[0;34m(self, filename, mode, clobber)\u001b[0m\n\u001b[1;32m    474\u001b[0m \u001b[0;34m\u001b[0m\u001b[0m\n\u001b[1;32m    475\u001b[0m         \u001b[0;32mif\u001b[0m \u001b[0mmode\u001b[0m \u001b[0;34m==\u001b[0m \u001b[0;34m'ostream'\u001b[0m\u001b[0;34m:\u001b[0m\u001b[0;34m\u001b[0m\u001b[0m\n\u001b[0;32m--> 476\u001b[0;31m             \u001b[0mself\u001b[0m\u001b[0;34m.\u001b[0m\u001b[0m_overwrite_existing\u001b[0m\u001b[0;34m(\u001b[0m\u001b[0mclobber\u001b[0m\u001b[0;34m,\u001b[0m \u001b[0;32mNone\u001b[0m\u001b[0;34m,\u001b[0m \u001b[0;32mTrue\u001b[0m\u001b[0;34m)\u001b[0m\u001b[0;34m\u001b[0m\u001b[0m\n\u001b[0m\u001b[1;32m    477\u001b[0m \u001b[0;34m\u001b[0m\u001b[0m\n\u001b[1;32m    478\u001b[0m         \u001b[0;32mif\u001b[0m \u001b[0mos\u001b[0m\u001b[0;34m.\u001b[0m\u001b[0mpath\u001b[0m\u001b[0;34m.\u001b[0m\u001b[0mexists\u001b[0m\u001b[0;34m(\u001b[0m\u001b[0mself\u001b[0m\u001b[0;34m.\u001b[0m\u001b[0mname\u001b[0m\u001b[0;34m)\u001b[0m\u001b[0;34m:\u001b[0m\u001b[0;34m\u001b[0m\u001b[0m\n",
      "\u001b[0;32m/home/michael/anaconda3/lib/python3.5/site-packages/astropy/io/fits/file.py\u001b[0m in \u001b[0;36m_overwrite_existing\u001b[0;34m(self, clobber, fileobj, closed)\u001b[0m\n\u001b[1;32m    393\u001b[0m                     \u001b[0mos\u001b[0m\u001b[0;34m.\u001b[0m\u001b[0mremove\u001b[0m\u001b[0;34m(\u001b[0m\u001b[0mself\u001b[0m\u001b[0;34m.\u001b[0m\u001b[0mname\u001b[0m\u001b[0;34m)\u001b[0m\u001b[0;34m\u001b[0m\u001b[0m\n\u001b[1;32m    394\u001b[0m             \u001b[0;32melse\u001b[0m\u001b[0;34m:\u001b[0m\u001b[0;34m\u001b[0m\u001b[0m\n\u001b[0;32m--> 395\u001b[0;31m                 \u001b[0;32mraise\u001b[0m \u001b[0mIOError\u001b[0m\u001b[0;34m(\u001b[0m\u001b[0;34m\"File %r already exists.\"\u001b[0m \u001b[0;34m%\u001b[0m \u001b[0mself\u001b[0m\u001b[0;34m.\u001b[0m\u001b[0mname\u001b[0m\u001b[0;34m)\u001b[0m\u001b[0;34m\u001b[0m\u001b[0m\n\u001b[0m\u001b[1;32m    396\u001b[0m \u001b[0;34m\u001b[0m\u001b[0m\n\u001b[1;32m    397\u001b[0m     \u001b[0;32mdef\u001b[0m \u001b[0m_open_fileobj\u001b[0m\u001b[0;34m(\u001b[0m\u001b[0mself\u001b[0m\u001b[0;34m,\u001b[0m \u001b[0mfileobj\u001b[0m\u001b[0;34m,\u001b[0m \u001b[0mmode\u001b[0m\u001b[0;34m,\u001b[0m \u001b[0mclobber\u001b[0m\u001b[0;34m)\u001b[0m\u001b[0;34m:\u001b[0m\u001b[0;34m\u001b[0m\u001b[0m\n",
      "\u001b[0;31mOSError\u001b[0m: File 'os-remove/wasp44b_end_i_24.0485.fits' already exists."
     ]
    }
   ],
   "source": [
    "# Remove overscan on target files.\n",
    "infile_list = glob('*.fits')\n",
    "for inname in infile_list:\n",
    "    outname = \"os-remove/\"+os.path.split(inname)[1]\n",
    "    remove_oscan_file(inname, outname)"
   ]
  },
  {
   "cell_type": "code",
   "execution_count": 5,
   "metadata": {
    "collapsed": false
   },
   "outputs": [
    {
     "name": "stdout",
     "output_type": "stream",
     "text": [
      "-12.0080958\n"
     ]
    }
   ],
   "source": [
    "# Loop through fits files to get times, DEC, RA. for HAT-P-53b.\n",
    "\n",
    "#   0 NUMBER                 Running object number                                     \n",
    "#   1 FLUX_ISO               Isophotal flux                                             [count]\n",
    "#   2 FLUXERR_ISO            RMS error for isophotal flux                               [count]\n",
    "#   3 MAG_ISO                Isophotal magnitude                                        [mag]\n",
    "#   4 MAGERR_ISO             RMS error for isophotal magnitude                          [mag]\n",
    "#   5 XWIN_IMAGE             Windowed position estimate along x                         [pixel]\n",
    "#   6 YWIN_IMAGE             Windowed position estimate along y                         [pixel]\n",
    "#   7 ALPHAWIN_J2000         Windowed right ascension (J2000)                           [deg]\n",
    "#   8 DELTAWIN_J2000         windowed declination (J2000)                               [deg]\n",
    "\n",
    "# Coordinates of Star, beginning\n",
    "#RA = 3.90615\n",
    "#DEC = -11.93665\n",
    "\n",
    "# For Reference Star 1:\n",
    "#RA_ref1 = 3.93338\n",
    "#DEC_ref1= -11.9410\n",
    "\n",
    "# For Reference Star 2:\n",
    "#RA_ref2 = 21.923235\n",
    "#DEC_ref2= 38.991684\n",
    "\n",
    "times = []\n",
    "newTime = [] # Getting the UTC time.\n",
    "newMag = []\n",
    "newMag_err = []\n",
    "magRef1 = []\n",
    "magRef1_err = []\n",
    "magRef2 = []\n",
    "magRef2_err = []\n",
    "mag = []\n",
    "mag_err = []\n",
    "\n",
    "# Number of catalogue.\n",
    "listNum = np.arange(478,597,1)\n",
    "\n",
    "for i in listNum:\n",
    "    data = fits.open('wasp44b_end_i_24.0' + str(i) + \".fits\")\n",
    "    times.append(data[0].header['DATE-OBS'])\n",
    "      \n",
    "\n",
    "for i in np.arange(0, len(listNum)-1, 1):    \n",
    "    tempTime = times[i][11:]\n",
    "    newTime.append(tempTime)\n",
    "\n",
    "# Now we want to read the fluxes from the catalogue.\n",
    "\n",
    "# Choosing stars by Magnitude.\n",
    "\n",
    "for i in listNum:\n",
    "    data = np.loadtxt(str(i) + \".cat\")\n",
    "    stars = np.sort(np.array(data[1]).flatten())\n",
    "    magRef2.append(stars[2])\n",
    "    magRef1.append(stars[1])\n",
    "    mag.append(stars[0])\n",
    "\n",
    "print(stars[0])\n"
   ]
  },
  {
   "cell_type": "code",
   "execution_count": 16,
   "metadata": {
    "collapsed": false
   },
   "outputs": [],
   "source": [
    "#ascii.read('479.cat')\n",
    "\n",
    "# Edit these for particular star.\n",
    "listNum = np.arange(478,597,1)\n",
    "target_xpix = 885\n",
    "target_ypix = 1121\n",
    "flux = 2368040\n",
    "\n",
    "ref_lc = []\n",
    "target_lc = []\n",
    "\n",
    "def find_index(array, xpix, ypix, flux):\n",
    "    idx1 = (np.abs(array['XWIN_IMAGE']-xpix)).argmin()\n",
    "    idx2 = (np.abs(array['YWIN_IMAGE']-ypix)).argmin()\n",
    "    idx3 = (np.abs(array['FLUX_ISO']-flux)).argmin()\n",
    "    if idx1 == idx2: \n",
    "        return idx1\n",
    "    else:\n",
    "        return -1\n",
    "\n",
    "# Get all Ref Stars\n",
    "for i in listNum:\n",
    "    data = ascii.read(str(i) + \".cat\")\n",
    "    data.sort('MAG_ISO')\n",
    "    data.remove_rows(find_index(data, target_xpix, target_ypix, flux))\n",
    "    # FINISH THIS\n",
    "    \n",
    "for i in listNum:\n",
    "    data = ascii.read(str(i) + \".cat\")\n",
    "    target_lc.append(data[find_index(data, target_xpix, target_ypix, flux)]['MAG_ISO'])"
   ]
  },
  {
   "cell_type": "code",
   "execution_count": 17,
   "metadata": {
    "collapsed": false
   },
   "outputs": [
    {
     "data": {
      "text/plain": [
       "[<matplotlib.lines.Line2D at 0x7f47fab6f198>]"
      ]
     },
     "execution_count": 17,
     "metadata": {},
     "output_type": "execute_result"
    },
    {
     "data": {
      "image/png": "[encoded data removed]",
      "text/plain": [
       "<matplotlib.figure.Figure at 0x7f47faa47780>"
      ]
     },
     "metadata": {},
     "output_type": "display_data"
    }
   ],
   "source": [
    "plt.plot(listNum, target_lc)"
   ]
  },
  {
   "cell_type": "code",
   "execution_count": null,
   "metadata": {
    "collapsed": true
   },
   "outputs": [],
   "source": []
  }
 ],
 "metadata": {
  "anaconda-cloud": {},
  "kernelspec": {
   "display_name": "Python [conda root]",
   "language": "python",
   "name": "conda-root-py"
  },
  "language_info": {
   "codemirror_mode": {
    "name": "ipython",
    "version": 3
   },
   "file_extension": ".py",
   "mimetype": "text/x-python",
   "name": "python",
   "nbconvert_exporter": "python",
   "pygments_lexer": "ipython3",
   "version": "3.5.2"
  }
 },
 "nbformat": 4,
 "nbformat_minor": 1
}
