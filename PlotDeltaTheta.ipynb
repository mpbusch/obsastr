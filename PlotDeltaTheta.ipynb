{
 "cells": [
  {
   "cell_type": "code",
   "execution_count": null,
   "metadata": {
    "collapsed": true
   },
   "outputs": [],
   "source": [
    "# Import packages as needed. Maybe PIL?\n",
    "import matplotlib.pyplot as plt\n",
    "import numpy as np"
   ]
  },
  {
   "cell_type": "code",
   "execution_count": null,
   "metadata": {
    "collapsed": true
   },
   "outputs": [],
   "source": [
    "filename = \"/datatable.csv\"\n",
    "\n",
    "datalist = np.loadtxt(filename)\n",
    "\n",
    "for data, label in datalist:\n",
    "    pylab.plot( data[:,0], data[:,1], label=label )\n",
    "\n",
    "pylab.legend()\n",
    "pylab.title(\"Title of Plot\")\n",
    "pylab.xlabel(\"X Axis Label\")\n",
    "pylab.ylabel(\"Y Axis Label\")"
   ]
  }
 ],
 "metadata": {
  "anaconda-cloud": {},
  "kernelspec": {
   "display_name": "Python [Root]",
   "language": "python",
   "name": "Python [Root]"
  },
  "language_info": {
   "codemirror_mode": {
    "name": "ipython",
    "version": 3
   },
   "file_extension": ".py",
   "mimetype": "text/x-python",
   "name": "python",
   "nbconvert_exporter": "python",
   "pygments_lexer": "ipython3",
   "version": "3.5.2"
  }
 },
 "nbformat": 4,
 "nbformat_minor": 0
}
