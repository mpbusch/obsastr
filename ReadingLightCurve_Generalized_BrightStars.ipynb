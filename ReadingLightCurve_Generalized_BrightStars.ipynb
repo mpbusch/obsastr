{
 "cells": [
  {
   "cell_type": "code",
   "execution_count": 16,
   "metadata": {
    "collapsed": false
   },
   "outputs": [],
   "source": [
    "# Import numpy\n",
    "import numpy as np\n",
    "from glob import glob\n",
    "from astropy.io import fits, ascii\n",
    "\n",
    "# Importing plotting stuff\n",
    "import matplotlib.pyplot as plt\n",
    "%matplotlib inline\n",
    "from scipy import stats\n",
    "\n",
    "# Use seaborn plotting style defaults\n",
    "#import seaborn as sns; sns.set()\n",
    "\n",
    "# Import Astropy things we need\n",
    "from astropy.io import ascii\n",
    "\n",
    "import astropy.coordinates as coord\n",
    "import astropy.units as u\n",
    "from astropy.table import Table\n",
    "\n",
    "from scipy.ndimage import median_filter\n",
    "from sklearn.neighbors import NearestNeighbors"
   ]
  },
  {
   "cell_type": "code",
   "execution_count": 15,
   "metadata": {
    "collapsed": false
   },
   "outputs": [
    {
     "name": "stdout",
     "output_type": "stream",
     "text": [
      "-12.0080958\n"
     ]
    }
   ],
   "source": [
    "# Loop through fits files to get times, DEC, RA. for HAT-P-53b.\n",
    "\n",
    "#   0 NUMBER                 Running object number                                     \n",
    "#   1 FLUX_ISO               Isophotal flux                                             [count]\n",
    "#   2 FLUXERR_ISO            RMS error for isophotal flux                               [count]\n",
    "#   3 MAG_ISO                Isophotal magnitude                                        [mag]\n",
    "#   4 MAGERR_ISO             RMS error for isophotal magnitude                          [mag]\n",
    "#   5 XWIN_IMAGE             Windowed position estimate along x                         [pixel]\n",
    "#   6 YWIN_IMAGE             Windowed position estimate along y                         [pixel]\n",
    "#   7 ALPHAWIN_J2000         Windowed right ascension (J2000)                           [deg]\n",
    "#   8 DELTAWIN_J2000         windowed declination (J2000)                               [deg]\n",
    "\n",
    "# Coordinates of Star, beginning\n",
    "#RA = 3.90615\n",
    "#DEC = -11.93665\n",
    "\n",
    "# For Reference Star 1:\n",
    "#RA_ref1 = 3.93338\n",
    "#DEC_ref1= -11.9410\n",
    "\n",
    "# For Reference Star 2:\n",
    "#RA_ref2 = 21.923235\n",
    "#DEC_ref2= 38.991684\n",
    "\n",
    "times = []\n",
    "newTime = [] # Getting the UTC time.\n",
    "newMag = []\n",
    "newMag_err = []\n",
    "magRef1 = []\n",
    "magRef1_err = []\n",
    "magRef2 = []\n",
    "magRef2_err = []\n",
    "mag = []\n",
    "mag_err = []\n",
    "\n",
    "# Number of catalogue.\n",
    "listNum = np.arange(478,597,1)\n",
    "\n",
    "for i in listNum:\n",
    "    data = fits.open('wasp44b_end_i_24.0' + str(i) + \".fits\")\n",
    "    times.append(data[0].header['DATE-OBS'])\n",
    "      \n",
    "\n",
    "for i in np.arange(0, len(listNum)-1, 1):    \n",
    "    tempTime = times[i][11:]\n",
    "    newTime.append(tempTime)\n",
    "\n",
    "# Now we want to read the fluxes from the catalogue.\n",
    "\n",
    "# Choosing stars by Magnitude.\n",
    "\n",
    "for i in listNum:\n",
    "    data = np.loadtxt(str(i) + \".cat\")\n",
    "    stars = np.sort(np.array(data[1]).flatten())\n",
    "    magRef2.append(stars[2])\n",
    "    magRef1.append(stars[1])\n",
    "    mag.append(stars[0])\n",
    "\n",
    "print(stars[0])\n"
   ]
  },
  {
   "cell_type": "code",
   "execution_count": 41,
   "metadata": {
    "collapsed": false
   },
   "outputs": [
    {
     "name": "stdout",
     "output_type": "stream",
     "text": [
      "(array([0]),)\n",
      "(array([0]),)\n"
     ]
    }
   ],
   "source": [
    "#ascii.read('479.cat')\n",
    "\n",
    "target_RA = 3.903\n",
    "target_DEC = -11.938\n",
    "\n",
    "\n",
    "ref_lc = []\n",
    "\n",
    "def findTarget(arr, RA, DEC):\n",
    "    index1 = np.where(np.min(np.abs(arr['ALPHAWIN_J2000'] - RA)))\n",
    "    print(index1)\n",
    "    index2 = np.where(np.min(np.abs(arr['DELTAWIN_J2000'] - DEC)))\n",
    "    print(index2)\n",
    "    for i in index1:\n",
    "        if i in index2:\n",
    "            return i\n",
    "    return -1\n",
    "\n",
    "data = ascii.read(str(479) + \".cat\")\n",
    "index = findTarget(data, target_RA, target_DEC)\n",
    "    \n",
    "\n",
    "for i in listNum:\n",
    "    data = ascii.read(str(i) + \".cat\")\n",
    "    data.sort('MAG_ISO')\n",
    "    #ref_lc.append(np.mean(data('FLUX_ISO')[0:10]))\n",
    "      \n",
    "#data "
   ]
  },
  {
   "cell_type": "code",
   "execution_count": null,
   "metadata": {
    "collapsed": true
   },
   "outputs": [],
   "source": []
  }
 ],
 "metadata": {
  "anaconda-cloud": {},
  "kernelspec": {
   "display_name": "Python [conda root]",
   "language": "python",
   "name": "conda-root-py"
  },
  "language_info": {
   "codemirror_mode": {
    "name": "ipython",
    "version": 3
   },
   "file_extension": ".py",
   "mimetype": "text/x-python",
   "name": "python",
   "nbconvert_exporter": "python",
   "pygments_lexer": "ipython3",
   "version": "3.5.2"
  }
 },
 "nbformat": 4,
 "nbformat_minor": 1
}
